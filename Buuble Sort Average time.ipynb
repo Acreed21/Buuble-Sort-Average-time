import matplotlib.pyplot as plt
#Contar las comparaciones, las preguntas, y steps
def isortSteps(arreglo,contador,contador2,contadorPreg,pos):
    steps = 0
    comparaciones = 0
    preguntas = 0
    for i in range(0,len(arreglo),1):
        x = arreglo[i]
        j = i - 1
        while((j>-1) and (arreglo[j]>x)):
            comparaciones += 1
            preguntas += 1
            steps = steps + 3
            arreglo[j+1] = arreglo[j]
            j-=1
        if(j!=-1):
            comparaciones+=1
        preguntas += 1
        steps = steps + 1
        arreglo[j+1] = x
        steps+=4
    steps+=1
    contador.insert(pos,steps)
    contador2.insert(pos,comparaciones)
    contadorPreg.insert(pos,preguntas)
    
#Crear las permutaciones
def permu(xs):
    if len(xs) <= 1:
        yield xs
    else:
        for i in range(len(xs)):
            for p in permu(xs[:i] + xs[i + 1:]):
                yield [xs[i]] + p
                
tamanno = 5
arreglo = []
for i in range(tamanno):
    arreglo.insert(i,i+1)
contadorIns = []
contadorCom = []
contadorPreg = []
for i in range(len(list(permu(arreglo)))):    
    isortSteps(list(permu(arreglo))[i],contadorIns,contadorCom,contadorPreg,i)
graficar = []
graficarCom = []
graficaPreg = []
plt.hist(contadorIns,len(contadorIns), (min(contadorIns),max(contadorIns)))
plt.show()
temporal = 0
for i in range(len(contadorIns)):
    temporal+=contadorIns[i]
print("Media de operaciones: ", temporal/len(contadorIns))
plt.hist(contadorCom,len(contadorCom), (min(contadorCom),max(contadorCom)))
plt.show()
temporal = 0
for i in range(len(contadorCom)):
    temporal+=contadorCom[i]
print("Media de comparaciones: ", temporal/len(contadorCom))
plt.hist(contadorPreg,len(contadorPreg), (min(contadorPreg),max(contadorPreg)))
plt.show()
temporal = 0
for i in range(len(contadorPreg)):
    temporal+=contadorPreg[i]
print("Media de preguntas: ", temporal/len(contadorPreg))
